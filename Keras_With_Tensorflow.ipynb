{
  "nbformat": 4,
  "nbformat_minor": 0,
  "metadata": {
    "colab": {
      "name": "Keras With Tensorflow.ipynb",
      "provenance": [],
      "collapsed_sections": []
    },
    "kernelspec": {
      "name": "python3",
      "display_name": "Python 3"
    },
    "language_info": {
      "name": "python"
    },
    "accelerator": "GPU"
  },
  "cells": [
    {
      "cell_type": "markdown",
      "metadata": {
        "id": "Aufx-I4a7DRP"
      },
      "source": [
        "# Keras With TensorFlow Prerequisites"
      ]
    },
    {
      "cell_type": "markdown",
      "metadata": {
        "id": "RaHytBHrj_CC"
      },
      "source": [
        "* Keras artık TensorFlow ile birlikte geldiği için, TensorFlow'u şu komutla kurabiliriz\n",
        "    \n",
        "    \n",
        "    !pip install tensorflow"
      ]
    },
    {
      "cell_type": "markdown",
      "metadata": {
        "id": "AkVdnH00jzHC"
      },
      "source": [
        "Before TensorFlow Integration"
      ]
    },
    {
      "cell_type": "code",
      "metadata": {
        "id": "jfV2PB7UjrRN"
      },
      "source": [
        "from keras.layers import Dense\n",
        "import keras\n",
        "from keras.models import Sequential\n",
        "from keras.layers import Activation\n",
        "from keras.layers.core import Dense\n",
        "from keras.optimizers import Adam\n",
        "from keras.metrics import categorical_crossentropy\n",
        "from keras.preprocessing.image import ImageDataGenerator\n",
        "from keras.layers.normalization import BatchNormalization\n",
        "from keras.layers.convolutional import Conv2D"
      ],
      "execution_count": null,
      "outputs": []
    },
    {
      "cell_type": "markdown",
      "metadata": {
        "id": "NjUb8Tj5j3_R"
      },
      "source": [
        "After TensorFlow Integration"
      ]
    },
    {
      "cell_type": "code",
      "metadata": {
        "id": "k2BkT4RpjtSh"
      },
      "source": [
        "from tensorflow.keras.layers import Dense\n",
        "import tensorflow as tf\n",
        "from tensorflow import keras\n",
        "from tensorflow.keras.models import Sequential\n",
        "from tensorflow.keras.layers import Activation, Dense, BatchNormalization, Conv2D\n",
        "from tensorflow.keras.optimizers import Adam\n",
        "from tensorflow.keras.metrics import categorical_crossentropy\n",
        "from tensorflow.keras.preprocessing.image import ImageDataGenerator\n",
        "#------------------\n",
        "import pandas as pd\n",
        "import numpy as np\n",
        "from random import randint\n",
        "from sklearn.utils import shuffle\n",
        "from sklearn.preprocessing import MinMaxScaler\n",
        "%matplotlib inline\n",
        "from sklearn.metrics import confusion_matrix\n",
        "import itertools\n",
        "import matplotlib.pyplot as plt"
      ],
      "execution_count": null,
      "outputs": []
    },
    {
      "cell_type": "markdown",
      "metadata": {
        "id": "9KJgC6WS7RIx"
      },
      "source": [
        "# TensorFlow And Keras GPU Support"
      ]
    },
    {
      "cell_type": "markdown",
      "metadata": {
        "id": "XfSt2bzWko57"
      },
      "source": [
        "* TensorFlow GPU desteği şuanda CUDA özellikli kartlara sahip Ubuntu ve Windows sistemleri için mevcuttur.\n",
        "* TensorFlow kodları varsayılan olarak GPU'da çalıştıracaktır.\n",
        "* Bu nedenle, TensorFlow hem CPU hem de GPU algılarsa kod varsayılan olarak GPU'da çalışır."
      ]
    },
    {
      "cell_type": "markdown",
      "metadata": {
        "id": "TPVJonq-7hkm"
      },
      "source": [
        "# Data Processing For Neural Network Training"
      ]
    },
    {
      "cell_type": "markdown",
      "metadata": {
        "id": "DDjD8zywmO5p"
      },
      "source": [
        "* Herhangi bir sinir ağını denetimli bir öğrenme görevinde eğitmek için önce bir örnek veri setine ve bu örnekler için karşılık gelen etiketlere ihtiyacımız var.\n",
        "* Sequential model, model üzerinde fit() işlevini çağırdığımızda başlayan eğitim işemi sırasında veriye ihtiyac duyar. Bu nedenle, bu fonksiyonun beklediği veri türünü kontrol etmek gerekiyor.\n",
        "\n",
        "* A Numpy array (or array-like), or a list of arrays (in case the model has multiple inputs).\n",
        "* A TensorFlow tensor, or a list of tensors (in case the model has multiple inputs).\n",
        "* A dict mapping input names to the corresponding array/tensors, if the model has named inputs.\n",
        "* A tf.data dataset. Should return a tuple of either (inputs, targets) or (inputs, targets, sample_weights).\n",
        "* A generator or keras.utils.Sequence returning (inputs, targets) or (inputs, targets, sample_weights).\n",
        "\n",
        "* https://www.tensorflow.org/api_docs/python/tf/keras/Sequential#fit"
      ]
    },
    {
      "cell_type": "code",
      "metadata": {
        "id": "iCwf1S7cm2gB"
      },
      "source": [
        "#deneysel bir ilacın klinik bir denemede 13 ila 100 yaş aralığındaki bireyler üzerinde test edildiğini varsayalım. \n",
        "#Deneme 2100 katılımcı vardı. Katılımcıların yarısı 65 yaşın altında, diğer yarısı 65 yaş ve üzerindeydi.\n",
        "#Deneme, 65 yaş ve üstü hastaların yaklaşık %95'inin ilaçtan yan etkiler yaşadığını ve \n",
        "#65 yaşın altındaki hastaların yaklaşık %95'inin hiçbir yan etki yaşamadığını gösterdi, \n",
        "#bu da genellikle yaşlı bireylerin yan etkilere maruz kalma olasılığının daha yüksek olduğunu gösterdi.\n",
        "\n",
        "train_labels = []\n",
        "train_samples = []\n",
        "\n",
        "for i in range(50):\n",
        "    # Yan etkiler yaşayan genç bireylerin % 5'i\n",
        "    random_younger = randint(13,64)\n",
        "    train_samples.append(random_younger)\n",
        "    train_labels.append(1)\n",
        "\n",
        "    # Yan etki yaşamayan yaşlı bireylerin %5'i\n",
        "    random_older = randint(65,100)\n",
        "    train_samples.append(random_older)\n",
        "    train_labels.append(0)\n",
        "\n",
        "for i in range(1000):\n",
        "    # Yan etki yaşamayan genç bireylerin %95'i\n",
        "    random_younger = randint(13,64)\n",
        "    train_samples.append(random_younger)\n",
        "    train_labels.append(0)\n",
        "\n",
        "    # Yan etkiler yaşayan yaşlı bireylerin %95'i\n",
        "    random_older = randint(65,100)\n",
        "    train_samples.append(random_older)\n",
        "    train_labels.append(1)"
      ],
      "execution_count": null,
      "outputs": []
    },
    {
      "cell_type": "code",
      "metadata": {
        "id": "j9etSZTb5iKr"
      },
      "source": [
        "train_labels = np.array(train_labels)\n",
        "train_samples = np.array(train_samples)\n",
        "train_labels, train_samples = shuffle(train_labels, train_samples)"
      ],
      "execution_count": null,
      "outputs": []
    },
    {
      "cell_type": "markdown",
      "metadata": {
        "id": "pN9TiuhU6d-u"
      },
      "source": [
        "* Tüm verileri 13 ile 100 arasında değişen bir ölçekten 0 ile 1 arasında olacak şekilde ölçeklendirmek için scikit-learn'in MinMaxScaler sınıfını kullanacağız.\n"
      ]
    },
    {
      "cell_type": "code",
      "metadata": {
        "id": "e4LcvGsn6YFF"
      },
      "source": [
        "scaler = MinMaxScaler(feature_range=(0,1))\n",
        "scaled_train_samples = scaler.fit_transform(train_samples.reshape(-1,1))"
      ],
      "execution_count": null,
      "outputs": []
    },
    {
      "cell_type": "markdown",
      "metadata": {
        "id": "tI0KgNl07u2-"
      },
      "source": [
        "# Create An Artificial Neural Network With TensorFlow's Keras API"
      ]
    },
    {
      "cell_type": "code",
      "metadata": {
        "colab": {
          "base_uri": "https://localhost:8080/"
        },
        "id": "0owMeJKR79t_",
        "outputId": "acb8ac3e-9b71-4561-df27-280f0b32e688"
      },
      "source": [
        "physical_devices = tf.config.experimental.list_physical_devices('GPU')\n",
        "print(\"Num GPUs Avaible :\" ,len(physical_devices))\n",
        "tf.config.experimental.set_memory_growth(physical_devices[0],True)"
      ],
      "execution_count": null,
      "outputs": [
        {
          "output_type": "stream",
          "name": "stdout",
          "text": [
            "Num GPUs Avaible : 1\n"
          ]
        }
      ]
    },
    {
      "cell_type": "code",
      "metadata": {
        "id": "r9wgA-MX-mb5"
      },
      "source": [
        "model = Sequential([ #Sıralı Model\n",
        "                    Dense(units=16,input_shape=(1,),activation=\"relu\"),#Hidden Layers\n",
        "                    Dense(units=32,activation=\"relu\"),\n",
        "                    Dense(units=2,activation=\"softmax\")\n",
        "])"
      ],
      "execution_count": null,
      "outputs": []
    },
    {
      "cell_type": "code",
      "metadata": {
        "colab": {
          "base_uri": "https://localhost:8080/"
        },
        "id": "Ap0Wv775_TqX",
        "outputId": "f8ff8aba-c555-4732-bd6c-847ee6379364"
      },
      "source": [
        "model.summary()"
      ],
      "execution_count": null,
      "outputs": [
        {
          "output_type": "stream",
          "name": "stdout",
          "text": [
            "Model: \"sequential\"\n",
            "_________________________________________________________________\n",
            "Layer (type)                 Output Shape              Param #   \n",
            "=================================================================\n",
            "dense (Dense)                (None, 16)                32        \n",
            "_________________________________________________________________\n",
            "dense_1 (Dense)              (None, 32)                544       \n",
            "_________________________________________________________________\n",
            "dense_2 (Dense)              (None, 2)                 66        \n",
            "=================================================================\n",
            "Total params: 642\n",
            "Trainable params: 642\n",
            "Non-trainable params: 0\n",
            "_________________________________________________________________\n"
          ]
        }
      ]
    },
    {
      "cell_type": "markdown",
      "metadata": {
        "id": "Xsr5e1ajQwwu"
      },
      "source": [
        "# Train An Artificial Neural Network"
      ]
    },
    {
      "cell_type": "code",
      "metadata": {
        "id": "byLy_CvOOzaf"
      },
      "source": [
        "model.compile(optimizer=Adam(learning_rate = 0.0001),loss=\"sparse_categorical_crossentropy\",metrics=[\"accuracy\"]) #Modelin hazırlanması ve gerekli parametrelerin belirlenmesi"
      ],
      "execution_count": null,
      "outputs": []
    },
    {
      "cell_type": "code",
      "metadata": {
        "colab": {
          "base_uri": "https://localhost:8080/"
        },
        "id": "5fS-vZS6PuH9",
        "outputId": "60cc3645-3a7e-4ec2-d54c-2e5d092e115b"
      },
      "source": [
        "model.fit(x=scaled_train_samples,y=train_labels,batch_size=10,validation_split=0.1,epochs=30,shuffle=True,verbose=2)"
      ],
      "execution_count": null,
      "outputs": [
        {
          "output_type": "stream",
          "name": "stdout",
          "text": [
            "Epoch 1/30\n",
            "189/189 - 3s - loss: 0.6989 - accuracy: 0.4407 - val_loss: 0.6818 - val_accuracy: 0.5000\n",
            "Epoch 2/30\n",
            "189/189 - 0s - loss: 0.6684 - accuracy: 0.5296 - val_loss: 0.6531 - val_accuracy: 0.5524\n",
            "Epoch 3/30\n",
            "189/189 - 0s - loss: 0.6389 - accuracy: 0.6159 - val_loss: 0.6175 - val_accuracy: 0.6905\n",
            "Epoch 4/30\n",
            "189/189 - 0s - loss: 0.6032 - accuracy: 0.7143 - val_loss: 0.5823 - val_accuracy: 0.7190\n",
            "Epoch 5/30\n",
            "189/189 - 0s - loss: 0.5735 - accuracy: 0.7455 - val_loss: 0.5511 - val_accuracy: 0.7714\n",
            "Epoch 6/30\n",
            "189/189 - 0s - loss: 0.5439 - accuracy: 0.7836 - val_loss: 0.5182 - val_accuracy: 0.8095\n",
            "Epoch 7/30\n",
            "189/189 - 0s - loss: 0.5135 - accuracy: 0.8228 - val_loss: 0.4861 - val_accuracy: 0.8286\n",
            "Epoch 8/30\n",
            "189/189 - 0s - loss: 0.4846 - accuracy: 0.8381 - val_loss: 0.4554 - val_accuracy: 0.8476\n",
            "Epoch 9/30\n",
            "189/189 - 0s - loss: 0.4570 - accuracy: 0.8529 - val_loss: 0.4254 - val_accuracy: 0.8762\n",
            "Epoch 10/30\n",
            "189/189 - 0s - loss: 0.4310 - accuracy: 0.8693 - val_loss: 0.3980 - val_accuracy: 0.8810\n",
            "Epoch 11/30\n",
            "189/189 - 0s - loss: 0.4073 - accuracy: 0.8836 - val_loss: 0.3731 - val_accuracy: 0.8952\n",
            "Epoch 12/30\n",
            "189/189 - 0s - loss: 0.3861 - accuracy: 0.8915 - val_loss: 0.3508 - val_accuracy: 0.9048\n",
            "Epoch 13/30\n",
            "189/189 - 0s - loss: 0.3675 - accuracy: 0.8995 - val_loss: 0.3312 - val_accuracy: 0.9286\n",
            "Epoch 14/30\n",
            "189/189 - 0s - loss: 0.3517 - accuracy: 0.9058 - val_loss: 0.3144 - val_accuracy: 0.9286\n",
            "Epoch 15/30\n",
            "189/189 - 0s - loss: 0.3380 - accuracy: 0.9122 - val_loss: 0.3001 - val_accuracy: 0.9286\n",
            "Epoch 16/30\n",
            "189/189 - 0s - loss: 0.3268 - accuracy: 0.9153 - val_loss: 0.2873 - val_accuracy: 0.9333\n",
            "Epoch 17/30\n",
            "189/189 - 0s - loss: 0.3168 - accuracy: 0.9180 - val_loss: 0.2768 - val_accuracy: 0.9333\n",
            "Epoch 18/30\n",
            "189/189 - 0s - loss: 0.3087 - accuracy: 0.9254 - val_loss: 0.2676 - val_accuracy: 0.9333\n",
            "Epoch 19/30\n",
            "189/189 - 0s - loss: 0.3017 - accuracy: 0.9259 - val_loss: 0.2597 - val_accuracy: 0.9333\n",
            "Epoch 20/30\n",
            "189/189 - 0s - loss: 0.2955 - accuracy: 0.9275 - val_loss: 0.2529 - val_accuracy: 0.9333\n",
            "Epoch 21/30\n",
            "189/189 - 0s - loss: 0.2905 - accuracy: 0.9302 - val_loss: 0.2470 - val_accuracy: 0.9333\n",
            "Epoch 22/30\n",
            "189/189 - 0s - loss: 0.2860 - accuracy: 0.9317 - val_loss: 0.2428 - val_accuracy: 0.9333\n",
            "Epoch 23/30\n",
            "189/189 - 0s - loss: 0.2823 - accuracy: 0.9291 - val_loss: 0.2376 - val_accuracy: 0.9333\n",
            "Epoch 24/30\n",
            "189/189 - 0s - loss: 0.2786 - accuracy: 0.9333 - val_loss: 0.2343 - val_accuracy: 0.9333\n",
            "Epoch 25/30\n",
            "189/189 - 0s - loss: 0.2760 - accuracy: 0.9296 - val_loss: 0.2305 - val_accuracy: 0.9333\n",
            "Epoch 26/30\n",
            "189/189 - 0s - loss: 0.2731 - accuracy: 0.9339 - val_loss: 0.2273 - val_accuracy: 0.9524\n",
            "Epoch 27/30\n",
            "189/189 - 0s - loss: 0.2707 - accuracy: 0.9333 - val_loss: 0.2250 - val_accuracy: 0.9524\n",
            "Epoch 28/30\n",
            "189/189 - 0s - loss: 0.2686 - accuracy: 0.9328 - val_loss: 0.2221 - val_accuracy: 0.9524\n",
            "Epoch 29/30\n",
            "189/189 - 0s - loss: 0.2664 - accuracy: 0.9312 - val_loss: 0.2195 - val_accuracy: 0.9524\n",
            "Epoch 30/30\n",
            "189/189 - 0s - loss: 0.2647 - accuracy: 0.9339 - val_loss: 0.2177 - val_accuracy: 0.9524\n"
          ]
        },
        {
          "output_type": "execute_result",
          "data": {
            "text/plain": [
              "<keras.callbacks.History at 0x7ff8a0d9e810>"
            ]
          },
          "metadata": {},
          "execution_count": 9
        }
      ]
    },
    {
      "cell_type": "markdown",
      "metadata": {
        "id": "AMTVCLd4RF1i"
      },
      "source": [
        "# Build A Validation Set"
      ]
    },
    {
      "cell_type": "markdown",
      "metadata": {
        "id": "CYQFQhzuWd21"
      },
      "source": [
        "* Daha önce modelimizi eğittiğimiz bir eğitim seti oluşturduğumuzu hatırlayın.\n",
        "* Modelimizin eğitildiği her epoch ile model, bu eğitim setindeki verilerin özelliklerini ve özelliklerini öğrenmeye devam edecektir.\n",
        "* Eğitim başlamadan önce, eğitim setinin bir kısmını çıkarmayı ve onu bir doğrulama setine yerleştirmeyi seçebiliriz.\n",
        "* Bu, modelin eğitilmediği veriler üzerinde ne kadar iyi genelleme yaptığını görmemizi sağlar.\n",
        "* Bu aynı zamanda modelin fazla uyumlu olup olmadığını(overfitting) görmemize yardımcı olur. Model yalnızca eğitim verilerinin özelliklerini öğrendiğinde ve eğitim almadığı veriler üzerinde iyi bir genelleme yapamadığında fazla uyum oluşur."
      ]
    },
    {
      "cell_type": "markdown",
      "metadata": {
        "id": "ncbPlD1HXnmx"
      },
      "source": [
        "* Bir doğrulama seti oluşturmanın iki yolu vardır.\n",
        "İlk yol, bir doğrulama kümesini tutacak bir veri yapısı oluşturmak ve eğitim kümesi için yaptığımız gibi verileri doğrudan bu yapıya yerleştirmektir.\n"
      ]
    },
    {
      "cell_type": "markdown",
      "metadata": {
        "id": "ofL0a17JX-yI"
      },
      "source": [
        "Model eğitildiğinde, yalnızca eğitim setinde eğitime devam edecek, ancak buna ek olarak doğrulama setini de değerlendiriyor olacaktır."
      ]
    },
    {
      "cell_type": "markdown",
      "metadata": {
        "id": "JvjuB0ArYT2x"
      },
      "source": [
        "**Create Validation Set With Keras**\n",
        "* Önceden oluşturulmuş bir doğrulama setimiz yoksa, model.fit()'i çağırdığımızda validation_split parametresi için bir değer belirleyebiliriz. 0 ile 1 arasında bir kesirli sayı bekler.\n",
        "* Belirtilen bu parametre ile Keras, doğrulama verisi olarak kullanılacak eğitim verisinin bir kısmını (bu örnekte %10) ayıracaktır. Model, eğitim verilerinin bu kısmını ayıracak, üzerinde eğitim vermeyecek ve her dönemin sonunda bu veriler üzerindeki kaybı ve model metriklerini değerlendirecektir.\n",
        "* fit() işlevinin verileri varsayılan olarak her epoch'tan önce karıştırdığını unutmayın. Ancak validation_split parametresini belirtirken doğrulama verileri, karıştırmadan önce x ve y verilerindeki son örneklerden seçilir."
      ]
    },
    {
      "cell_type": "markdown",
      "metadata": {
        "id": "wih3Wv6iZWPh"
      },
      "source": [
        "* model.fit(\n",
        "      x=scaled_train_samples\n",
        "      y=train_labels\n",
        "      validation_data=valid_set\n",
        "      batch_size=10\n",
        "      epochs=30\n",
        "      verbose=2\n",
        ")"
      ]
    },
    {
      "cell_type": "markdown",
      "metadata": {
        "id": "dD5svtntZOox"
      },
      "source": [
        "# Neural Network Predictions"
      ]
    },
    {
      "cell_type": "markdown",
      "metadata": {
        "id": "385ky0VQfffH"
      },
      "source": [
        "* Bir modeli eğittiğimizde, daha sonra eğitilmiş modeli alıp yeni verilere uygulayabileceğimizi ve modelin daha önce görmediği veriler üzerinde genelleştirmesini ve doğru bir şekilde tahmin etmesini sağlayabileceğimizi umuyoruz. ."
      ]
    },
    {
      "cell_type": "code",
      "metadata": {
        "id": "U-K0_Rt3cLfR"
      },
      "source": [
        "test_labels =  []\n",
        "test_samples = []\n",
        "\n",
        "for i in range(10):\n",
        "    # Yan etkiler yaşayan genç bireylerin %5'i\n",
        "    random_younger = randint(13,64)\n",
        "    test_samples.append(random_younger)\n",
        "    test_labels.append(1)\n",
        "\n",
        "    # Yan etki yaşamayan yaşlı bireylerin %5'i\n",
        "    random_older = randint(65,100)\n",
        "    test_samples.append(random_older)\n",
        "    test_labels.append(0)\n",
        "\n",
        "for i in range(200):\n",
        "    # Yan etki yaşamayan genç bireylerin %95'i\n",
        "    random_younger = randint(13,64)\n",
        "    test_samples.append(random_younger)\n",
        "    test_labels.append(0)\n",
        "\n",
        "    # Yan etkiler yaşayan yaşlı bireylerin %95'i\n",
        "    random_older = randint(65,100)\n",
        "    test_samples.append(random_older)\n",
        "    test_labels.append(1)\n",
        "\n",
        "test_labels = np.array(test_labels)\n",
        "test_samples = np.array(test_samples)\n",
        "test_labels, test_samples = shuffle(test_labels, test_samples)\n",
        "\n",
        "scaled_test_samples = scaler.fit_transform(test_samples.reshape(-1,1))"
      ],
      "execution_count": null,
      "outputs": []
    },
    {
      "cell_type": "code",
      "metadata": {
        "id": "wQsI7jM3cObY"
      },
      "source": [
        "predictions = model.predict(\n",
        "      x=scaled_test_samples\n",
        "    , batch_size=10\n",
        "    , verbose=0\n",
        ")"
      ],
      "execution_count": null,
      "outputs": []
    },
    {
      "cell_type": "code",
      "metadata": {
        "id": "K03YeZp2c_zh"
      },
      "source": [
        "rounded_predictions = np.argmax(predictions,axis=1)"
      ],
      "execution_count": null,
      "outputs": []
    },
    {
      "cell_type": "markdown",
      "metadata": {
        "id": "wQyEv0k_dsT6"
      },
      "source": [
        "# Create A Confusion Matrix For Neural Network Predictions"
      ]
    },
    {
      "cell_type": "markdown",
      "metadata": {
        "id": "XKRUrQ5mf0-y"
      },
      "source": [
        "Bir sinir ağının çıkarım sırasında ne kadar iyi tahmin yaptığını görsel olarak gözlemleyebilmemize yardımcı olacak en iyi yollardan biri bir karmaşıklık matrisidir."
      ]
    },
    {
      "cell_type": "code",
      "metadata": {
        "id": "SUQ4nREkfxHa"
      },
      "source": [
        "cm = confusion_matrix(y_true=test_labels, y_pred=rounded_predictions)"
      ],
      "execution_count": null,
      "outputs": []
    },
    {
      "cell_type": "code",
      "metadata": {
        "id": "FXM5fKbKgSb6"
      },
      "source": [
        "def plot_confusion_matrix(cm, classes,\n",
        "                        normalize=False,\n",
        "                        title='Confusion matrix',\n",
        "                        cmap=plt.cm.Blues):\n",
        "    \"\"\"\n",
        "    This function prints and plots the confusion matrix.\n",
        "    Normalization can be applied by setting `normalize=True`.\n",
        "    \"\"\"\n",
        "    plt.imshow(cm, interpolation='nearest', cmap=cmap)\n",
        "    plt.title(title)\n",
        "    plt.colorbar()\n",
        "    tick_marks = np.arange(len(classes))\n",
        "    plt.xticks(tick_marks, classes, rotation=45)\n",
        "    plt.yticks(tick_marks, classes)\n",
        "\n",
        "    if normalize:\n",
        "        cm = cm.astype('float') / cm.sum(axis=1)[:, np.newaxis]\n",
        "        print(\"Normalized confusion matrix\")\n",
        "    else:\n",
        "        print('Confusion matrix, without normalization')\n",
        "\n",
        "    print(cm)\n",
        "\n",
        "    thresh = cm.max() / 2.\n",
        "    for i, j in itertools.product(range(cm.shape[0]), range(cm.shape[1])):\n",
        "        plt.text(j, i, cm[i, j],\n",
        "            horizontalalignment=\"center\",\n",
        "            color=\"white\" if cm[i, j] > thresh else \"black\")\n",
        "\n",
        "    plt.tight_layout()\n",
        "    plt.ylabel('True label')\n",
        "    plt.xlabel('Predicted label')"
      ],
      "execution_count": null,
      "outputs": []
    },
    {
      "cell_type": "code",
      "metadata": {
        "id": "IZKh1hAjgUzG"
      },
      "source": [
        "cm_plot_labels = ['no_side_effects','had_side_effects']"
      ],
      "execution_count": null,
      "outputs": []
    },
    {
      "cell_type": "code",
      "metadata": {
        "colab": {
          "base_uri": "https://localhost:8080/",
          "height": 362
        },
        "id": "6wjzMjbSgW0O",
        "outputId": "6a587113-3b56-4d50-dc5c-927d2f61132e"
      },
      "source": [
        "plot_confusion_matrix(cm=cm, classes=cm_plot_labels, title='Confusion Matrix')"
      ],
      "execution_count": null,
      "outputs": [
        {
          "output_type": "stream",
          "name": "stdout",
          "text": [
            "Confusion matrix, without normalization\n",
            "[[194  16]\n",
            " [ 10 200]]\n"
          ]
        },
        {
          "output_type": "display_data",
          "data": {
            "image/png": "[encoded data removed]",
            "text/plain": [
              "<Figure size 432x288 with 2 Axes>"
            ]
          },
          "metadata": {
            "needs_background": "light"
          }
        }
      ]
    },
    {
      "cell_type": "markdown",
      "metadata": {
        "id": "WJvuHV6Ugu_X"
      },
      "source": [
        "* Sol üstten sağ alta doğru uzanan mavi hücreler, modelin doğru bir şekilde tahmin ettiği örnek sayısını içerir.\n",
        "* Gördüğünüz gibi, bu, modelin tahminlerinde ne kadar iyi performans gösterdiğini görsel olarak yorumlamanın ve nerede biraz çalışmaya ihtiyaç duyabileceğini anlamanın iyi bir yoludur."
      ]
    },
    {
      "cell_type": "code",
      "metadata": {
        "colab": {
          "base_uri": "https://localhost:8080/"
        },
        "id": "gfkmWaPahXwB",
        "outputId": "3b10b71d-4317-4657-d5ba-7be7baa55a07"
      },
      "source": [
        "print(\"Acc : %\",(394/420)*100)"
      ],
      "execution_count": null,
      "outputs": [
        {
          "output_type": "stream",
          "name": "stdout",
          "text": [
            "Acc : % 93.80952380952381\n"
          ]
        }
      ]
    },
    {
      "cell_type": "markdown",
      "metadata": {
        "id": "2LtX8s6qovrP"
      },
      "source": [
        "# Save And Load A Model"
      ]
    },
    {
      "cell_type": "markdown",
      "metadata": {
        "id": "nzdA1PktvRe9"
      },
      "source": [
        "Keras modelini kaydetmenin birkaç farklı yolu vardır.\n",
        "* Bir modeli eğitildikten sonra daha sonra kullanabilmek için mevcut durumunda kaydetmek istiyorsak, model üzerinde save() fonksiyonunu çağırabiliriz. Save() için, modeli kaydetmek istediğimiz dosyanın dosya yolunu ve adını h5 uzantılı olarak geçiyoruz.\n",
        "    \n",
        "    \n",
        "    model.save('models/medical_trial_model.h5')\n",
        "\n",
        "* Bu kaydetme yöntemi, modelle ilgili her şeyi - mimari, ağırlıklar, optimize edici, optimize edicinin durumu, öğrenme oranı, kayıp vb. her şeyi kaydedecektir.\n",
        "\n",
        "\n",
        "\n"
      ]
    },
    {
      "cell_type": "markdown",
      "metadata": {
        "id": "bBmHx-ZOws7v"
      },
      "source": [
        "**Artık bu modeli kaydettiğimize göre, modeli daha sonra yükleyebiliriz.**\n",
        "* Yüklenen modelin, kaydedilen modelle aynı mimariye ve ağırlıklara sahip olduğunu, model üzerinde summary() ve get_weights()'i çağırarak doğrulayabiliriz.(model.optimizer,model.loss)"
      ]
    },
    {
      "cell_type": "code",
      "metadata": {
        "id": "JawaNNSpoxpO"
      },
      "source": [
        "from tensorflow.keras.models import load_model\n",
        "new_model = load_model('models/medical_trial_model.h5')"
      ],
      "execution_count": null,
      "outputs": []
    },
    {
      "cell_type": "markdown",
      "metadata": {
        "id": "67KtWhuJyk1J"
      },
      "source": [
        "* Yalnızca modelin mimarisini kaydetmemizin başka bir yolu var.\n",
        "* Bunu model.to_json()'u çağırarak yapabiliriz. Bu, modelin mimarisini bir JSON dizesi olarak kaydedecektir."
      ]
    },
    {
      "cell_type": "code",
      "metadata": {
        "id": "jGSCfvvzyHlt"
      },
      "source": [
        "json_string = model.to_json()\n",
        "json_string\n",
        "\n",
        "from tensorflow.keras.models import model_from_json\n",
        "#model_architecture = model_from_json(json_string)"
      ],
      "execution_count": null,
      "outputs": []
    },
    {
      "cell_type": "markdown",
      "metadata": {
        "id": "u7FHIql9y2i9"
      },
      "source": [
        "* Son olarak modelin ağırlıklarını kaydetmek için\n",
        "    \n",
        "    \n",
        "    model.save_weights('models/my_model_weights.h5')\n",
        "* Daha sonra, kaydedilen ağırlıkları yeni bir modele yükleyebiliriz, ancak ağırlıkların yüklenebilmesi için yeni modelin eski modelle aynı mimariye sahip olması gerekir."
      ]
    },
    {
      "cell_type": "markdown",
      "metadata": {
        "id": "n4zlhQcK5LR4"
      },
      "source": [
        "Daha Fazlası İçin :     \n",
        "* https://elitedatascience.com/keras-tutorial-deep-learning-in-python\n",
        "* https://www.tensorflow.org/tutorials/quickstart/beginner\n",
        "* https://deeplizard.com/learn/playlist/PLZbbT5o_s2xrwRnXk_yCPtnqqo4_u2YGL\n",
        "* https://www.datacamp.com/community/tutorials/deep-learning-python\n"
      ]
    }
  ]
}